{
 "cells": [
  {
   "cell_type": "markdown",
   "id": "dbf2d1c5",
   "metadata": {},
   "source": [
    "# regular expression assignment 1"
   ]
  },
  {
   "cell_type": "markdown",
   "id": "d96a135a",
   "metadata": {},
   "source": [
    "# 1 replace special charaters"
   ]
  },
  {
   "cell_type": "code",
   "execution_count": 124,
   "id": "0d7cb504",
   "metadata": {},
   "outputs": [
    {
     "name": "stdout",
     "output_type": "stream",
     "text": [
      "Python:Exercises::PHP:exercises:\n"
     ]
    }
   ],
   "source": [
    "import re\n",
    "rdata='[ ,.]'\n",
    "string='Python Exercises, PHP exercises.'\n",
    "pattern=re.sub(rdata,':',string)\n",
    "print(pattern)\n",
    "\n"
   ]
  },
  {
   "cell_type": "markdown",
   "id": "a874b5d5",
   "metadata": {},
   "source": [
    "# 2 remove dataframe dictionary"
   ]
  },
  {
   "cell_type": "code",
   "execution_count": 40,
   "id": "5412b626",
   "metadata": {},
   "outputs": [
    {
     "name": "stdout",
     "output_type": "stream",
     "text": [
      "                  SUMMARY\n",
      "0           hello  world \n",
      "1                    test\n",
      "2     four  five   six   \n"
     ]
    }
   ],
   "source": [
    "import pandas as pd\n",
    "import re\n",
    "\n",
    "dict={'SUMMARY' : ['hello, world!', 'XXXXX test', '123four, five:; six...']}\n",
    "df=pd.DataFrame(data=dict)\n",
    "\n",
    "df['SUMMARY']=df['SUMMARY'].str.replace('[^\\sa-z]', ' ',regex=True)\n",
    "print(df)\n",
    "\n",
    "\n"
   ]
  },
  {
   "cell_type": "markdown",
   "id": "9edda637",
   "metadata": {},
   "source": [
    "# 3 findall method find 4 characters"
   ]
  },
  {
   "cell_type": "code",
   "execution_count": 19,
   "id": "cdc401ba",
   "metadata": {},
   "outputs": [
    {
     "name": "stdout",
     "output_type": "stream",
     "text": [
      "['python', 'most', 'popular', 'progrmming', 'language']\n"
     ]
    }
   ],
   "source": [
    "import re \n",
    "string=\"python is most popular progrmming language\"\n",
    "pattern=re.compile(r'\\b\\w{4,}\\b')\n",
    "a=re.findall(pattern,string)\n",
    "print(a)"
   ]
  },
  {
   "cell_type": "markdown",
   "id": "b15b7da0",
   "metadata": {},
   "source": [
    "# 4 findall method find three four five characters using re.compile"
   ]
  },
  {
   "cell_type": "code",
   "execution_count": 120,
   "id": "847e198a",
   "metadata": {},
   "outputs": [
    {
     "name": "stdout",
     "output_type": "stream",
     "text": [
      "['After ', 'won ', 'the ', 'wolrd ', 'cup ', 'virat ', 'and ', 'rohit ', 'T20 ']\n"
     ]
    }
   ],
   "source": [
    "import re \n",
    "data=\"After won the wolrd cup virat and rohit announced retirement T20 \"\n",
    "pattern=re.compile(r'\\b\\w{3,5}\\s')\n",
    "a=re.findall(pattern,data)\n",
    "print(a)"
   ]
  },
  {
   "cell_type": "markdown",
   "id": "671fdbe3",
   "metadata": {},
   "source": [
    "# 5 remove parathesis list in string"
   ]
  },
  {
   "cell_type": "code",
   "execution_count": 164,
   "id": "374d9c2e",
   "metadata": {},
   "outputs": [
    {
     "ename": "TypeError",
     "evalue": "unhashable type: 'list'",
     "output_type": "error",
     "traceback": [
      "\u001b[1;31m---------------------------------------------------------------------------\u001b[0m",
      "\u001b[1;31mTypeError\u001b[0m                                 Traceback (most recent call last)",
      "Cell \u001b[1;32mIn[164], line 6\u001b[0m\n\u001b[0;32m      4\u001b[0m     b \u001b[38;5;241m=\u001b[39m[]\n\u001b[0;32m      5\u001b[0m \u001b[38;5;28;01mfor\u001b[39;00m c1 \u001b[38;5;129;01min\u001b[39;00m data:\n\u001b[1;32m----> 6\u001b[0m     d\u001b[38;5;241m=\u001b[39mre\u001b[38;5;241m.\u001b[39msub(a,\u001b[38;5;124m\"\u001b[39m\u001b[38;5;124m \u001b[39m\u001b[38;5;124m\"\u001b[39m,c1)\n\u001b[0;32m      7\u001b[0m     d\u001b[38;5;241m.\u001b[39mappend(b)\n\u001b[0;32m      8\u001b[0m \u001b[38;5;28;01mreturn\u001b[39;00m d\n",
      "File \u001b[1;32mC:\\ProgramData\\anaconda3\\Lib\\re\\__init__.py:185\u001b[0m, in \u001b[0;36msub\u001b[1;34m(pattern, repl, string, count, flags)\u001b[0m\n\u001b[0;32m    178\u001b[0m \u001b[38;5;28;01mdef\u001b[39;00m \u001b[38;5;21msub\u001b[39m(pattern, repl, string, count\u001b[38;5;241m=\u001b[39m\u001b[38;5;241m0\u001b[39m, flags\u001b[38;5;241m=\u001b[39m\u001b[38;5;241m0\u001b[39m):\n\u001b[0;32m    179\u001b[0m \u001b[38;5;250m    \u001b[39m\u001b[38;5;124;03m\"\"\"Return the string obtained by replacing the leftmost\u001b[39;00m\n\u001b[0;32m    180\u001b[0m \u001b[38;5;124;03m    non-overlapping occurrences of the pattern in string by the\u001b[39;00m\n\u001b[0;32m    181\u001b[0m \u001b[38;5;124;03m    replacement repl.  repl can be either a string or a callable;\u001b[39;00m\n\u001b[0;32m    182\u001b[0m \u001b[38;5;124;03m    if a string, backslash escapes in it are processed.  If it is\u001b[39;00m\n\u001b[0;32m    183\u001b[0m \u001b[38;5;124;03m    a callable, it's passed the Match object and must return\u001b[39;00m\n\u001b[0;32m    184\u001b[0m \u001b[38;5;124;03m    a replacement string to be used.\"\"\"\u001b[39;00m\n\u001b[1;32m--> 185\u001b[0m     \u001b[38;5;28;01mreturn\u001b[39;00m _compile(pattern, flags)\u001b[38;5;241m.\u001b[39msub(repl, string, count)\n",
      "File \u001b[1;32mC:\\ProgramData\\anaconda3\\Lib\\re\\__init__.py:277\u001b[0m, in \u001b[0;36m_compile\u001b[1;34m(pattern, flags)\u001b[0m\n\u001b[0;32m    275\u001b[0m     flags \u001b[38;5;241m=\u001b[39m flags\u001b[38;5;241m.\u001b[39mvalue\n\u001b[0;32m    276\u001b[0m \u001b[38;5;28;01mtry\u001b[39;00m:\n\u001b[1;32m--> 277\u001b[0m     \u001b[38;5;28;01mreturn\u001b[39;00m _cache[\u001b[38;5;28mtype\u001b[39m(pattern), pattern, flags]\n\u001b[0;32m    278\u001b[0m \u001b[38;5;28;01mexcept\u001b[39;00m \u001b[38;5;167;01mKeyError\u001b[39;00m:\n\u001b[0;32m    279\u001b[0m     \u001b[38;5;28;01mpass\u001b[39;00m\n",
      "\u001b[1;31mTypeError\u001b[0m: unhashable type: 'list'"
     ]
    }
   ],
   "source": [
    "import re \n",
    "def r1(data):\n",
    "    a=re.compil(r'\\(\\)')\n",
    "    b =[]\n",
    "for c1 in data:\n",
    "    d=re.sub(a,\" \",c1)\n",
    "    d.append(b)\n",
    "return d\n",
    "data ='[\"example(.com)\",\"hr@fliprobo(.com)\",\"github(.com)\",\"Hello(Data Science World)\",\"Data(Scientist)\"]'\n",
    "m=r1(data)\n",
    "print(m)\n",
    "\n",
    "\n",
    "                   "
   ]
  },
  {
   "cell_type": "markdown",
   "id": "e3ecbbff",
   "metadata": {},
   "source": [
    "# 6.remove parathesis area"
   ]
  },
  {
   "cell_type": "code",
   "execution_count": 132,
   "id": "f89722cb",
   "metadata": {},
   "outputs": [
    {
     "name": "stdout",
     "output_type": "stream",
     "text": [
      "[\"example\", \"hr@fliprobo\", \"github\", \"Hello\", \"Data\"]\n"
     ]
    }
   ],
   "source": [
    "import re \n",
    "string='[\"example(.com)\", \"hr@fliprobo(.com)\", \"github(.com)\", \"Hello(Data Science World)\", \"Data(Scientist)\"]'\n",
    "pattern12=re.sub(r\"\\([^()]*\\)\",\"\",string)\n",
    "print(pattern12)\n"
   ]
  },
  {
   "cell_type": "markdown",
   "id": "0aa21cc3",
   "metadata": {},
   "source": [
    "# 7.split uppercase"
   ]
  },
  {
   "cell_type": "code",
   "execution_count": 130,
   "id": "c0d52a0c",
   "metadata": {},
   "outputs": [
    {
     "name": "stdout",
     "output_type": "stream",
     "text": [
      "['Importance', 'Of', 'Regular', 'Expressions', 'In', 'Python']\n"
     ]
    }
   ],
   "source": [
    "import re\n",
    "data='ImportanceOfRegularExpressionsInPython'\n",
    "a=re.findall('[A-z][^A-Z]*',data)\n",
    "print(a)"
   ]
  },
  {
   "cell_type": "markdown",
   "id": "e3d019c1",
   "metadata": {},
   "source": [
    "# 8.insert space between word and string with no"
   ]
  },
  {
   "cell_type": "code",
   "execution_count": 477,
   "id": "0289e154",
   "metadata": {},
   "outputs": [
    {
     "name": "stdout",
     "output_type": "stream",
     "text": [
      "['RegularExpression1IsAn2ImportantTopic3InPython']\n"
     ]
    }
   ],
   "source": [
    "import re\n",
    "data='RegularExpression1IsAn2ImportantTopic3InPython'\n",
    "a=re.findall('^[a-zA-Z0-9\\s]*.',data)\n",
    "print(a)"
   ]
  },
  {
   "cell_type": "markdown",
   "id": "5ad52888",
   "metadata": {},
   "source": [
    "# 9.insert space between words starting capital or no"
   ]
  },
  {
   "cell_type": "code",
   "execution_count": 479,
   "id": "ccca1cf6",
   "metadata": {},
   "outputs": [
    {
     "name": "stdout",
     "output_type": "stream",
     "text": [
      "['RegularExpression1IsAn2ImportantTopic3InPython']\n"
     ]
    }
   ],
   "source": [
    "import re\n",
    "data='RegularExpression1IsAn2ImportantTopic3InPython'\n",
    "a=re.findall('[A-Za-z0-9\\s]+',data)\n",
    "print(a)"
   ]
  },
  {
   "cell_type": "markdown",
   "id": "ebe49499",
   "metadata": {},
   "source": [
    "# 10.use github link create dataframe and extract first 6 letters and store dataframe under new column first 5 letters"
   ]
  },
  {
   "cell_type": "code",
   "execution_count": 134,
   "id": "34a67787",
   "metadata": {},
   "outputs": [
    {
     "ename": "KeyError",
     "evalue": "'s1'",
     "output_type": "error",
     "traceback": [
      "\u001b[1;31m---------------------------------------------------------------------------\u001b[0m",
      "\u001b[1;31mKeyError\u001b[0m                                  Traceback (most recent call last)",
      "File \u001b[1;32mC:\\ProgramData\\anaconda3\\Lib\\site-packages\\pandas\\core\\indexes\\base.py:3653\u001b[0m, in \u001b[0;36mIndex.get_loc\u001b[1;34m(self, key)\u001b[0m\n\u001b[0;32m   3652\u001b[0m \u001b[38;5;28;01mtry\u001b[39;00m:\n\u001b[1;32m-> 3653\u001b[0m     \u001b[38;5;28;01mreturn\u001b[39;00m \u001b[38;5;28mself\u001b[39m\u001b[38;5;241m.\u001b[39m_engine\u001b[38;5;241m.\u001b[39mget_loc(casted_key)\n\u001b[0;32m   3654\u001b[0m \u001b[38;5;28;01mexcept\u001b[39;00m \u001b[38;5;167;01mKeyError\u001b[39;00m \u001b[38;5;28;01mas\u001b[39;00m err:\n",
      "File \u001b[1;32mC:\\ProgramData\\anaconda3\\Lib\\site-packages\\pandas\\_libs\\index.pyx:147\u001b[0m, in \u001b[0;36mpandas._libs.index.IndexEngine.get_loc\u001b[1;34m()\u001b[0m\n",
      "File \u001b[1;32mC:\\ProgramData\\anaconda3\\Lib\\site-packages\\pandas\\_libs\\index.pyx:176\u001b[0m, in \u001b[0;36mpandas._libs.index.IndexEngine.get_loc\u001b[1;34m()\u001b[0m\n",
      "File \u001b[1;32mpandas\\_libs\\hashtable_class_helper.pxi:7080\u001b[0m, in \u001b[0;36mpandas._libs.hashtable.PyObjectHashTable.get_item\u001b[1;34m()\u001b[0m\n",
      "File \u001b[1;32mpandas\\_libs\\hashtable_class_helper.pxi:7088\u001b[0m, in \u001b[0;36mpandas._libs.hashtable.PyObjectHashTable.get_item\u001b[1;34m()\u001b[0m\n",
      "\u001b[1;31mKeyError\u001b[0m: 's1'",
      "\nThe above exception was the direct cause of the following exception:\n",
      "\u001b[1;31mKeyError\u001b[0m                                  Traceback (most recent call last)",
      "Cell \u001b[1;32mIn[134], line 5\u001b[0m\n\u001b[0;32m      3\u001b[0m search\u001b[38;5;241m=\u001b[39m\u001b[38;5;124m'\u001b[39m\u001b[38;5;124mhttps://raw.githubusercontent.com/dsrscientist/DSData/master/happiness_score_dataset.csv\u001b[39m\u001b[38;5;124m'\u001b[39m\n\u001b[0;32m      4\u001b[0m df\u001b[38;5;241m=\u001b[39mpd\u001b[38;5;241m.\u001b[39mread_csv(search)\n\u001b[1;32m----> 5\u001b[0m df[\u001b[38;5;124m'\u001b[39m\u001b[38;5;124ms1\u001b[39m\u001b[38;5;124m'\u001b[39m]\u001b[38;5;241m=\u001b[39mdf[\u001b[38;5;124m'\u001b[39m\u001b[38;5;124ms1\u001b[39m\u001b[38;5;124m'\u001b[39m]\u001b[38;5;241m.\u001b[39mapply(\u001b[38;5;28;01mlambda\u001b[39;00m s:s[:\u001b[38;5;241m6\u001b[39m])\n\u001b[0;32m      6\u001b[0m \u001b[38;5;28mprint\u001b[39m(df)\n",
      "File \u001b[1;32mC:\\ProgramData\\anaconda3\\Lib\\site-packages\\pandas\\core\\frame.py:3761\u001b[0m, in \u001b[0;36mDataFrame.__getitem__\u001b[1;34m(self, key)\u001b[0m\n\u001b[0;32m   3759\u001b[0m \u001b[38;5;28;01mif\u001b[39;00m \u001b[38;5;28mself\u001b[39m\u001b[38;5;241m.\u001b[39mcolumns\u001b[38;5;241m.\u001b[39mnlevels \u001b[38;5;241m>\u001b[39m \u001b[38;5;241m1\u001b[39m:\n\u001b[0;32m   3760\u001b[0m     \u001b[38;5;28;01mreturn\u001b[39;00m \u001b[38;5;28mself\u001b[39m\u001b[38;5;241m.\u001b[39m_getitem_multilevel(key)\n\u001b[1;32m-> 3761\u001b[0m indexer \u001b[38;5;241m=\u001b[39m \u001b[38;5;28mself\u001b[39m\u001b[38;5;241m.\u001b[39mcolumns\u001b[38;5;241m.\u001b[39mget_loc(key)\n\u001b[0;32m   3762\u001b[0m \u001b[38;5;28;01mif\u001b[39;00m is_integer(indexer):\n\u001b[0;32m   3763\u001b[0m     indexer \u001b[38;5;241m=\u001b[39m [indexer]\n",
      "File \u001b[1;32mC:\\ProgramData\\anaconda3\\Lib\\site-packages\\pandas\\core\\indexes\\base.py:3655\u001b[0m, in \u001b[0;36mIndex.get_loc\u001b[1;34m(self, key)\u001b[0m\n\u001b[0;32m   3653\u001b[0m     \u001b[38;5;28;01mreturn\u001b[39;00m \u001b[38;5;28mself\u001b[39m\u001b[38;5;241m.\u001b[39m_engine\u001b[38;5;241m.\u001b[39mget_loc(casted_key)\n\u001b[0;32m   3654\u001b[0m \u001b[38;5;28;01mexcept\u001b[39;00m \u001b[38;5;167;01mKeyError\u001b[39;00m \u001b[38;5;28;01mas\u001b[39;00m err:\n\u001b[1;32m-> 3655\u001b[0m     \u001b[38;5;28;01mraise\u001b[39;00m \u001b[38;5;167;01mKeyError\u001b[39;00m(key) \u001b[38;5;28;01mfrom\u001b[39;00m \u001b[38;5;21;01merr\u001b[39;00m\n\u001b[0;32m   3656\u001b[0m \u001b[38;5;28;01mexcept\u001b[39;00m \u001b[38;5;167;01mTypeError\u001b[39;00m:\n\u001b[0;32m   3657\u001b[0m     \u001b[38;5;66;03m# If we have a listlike key, _check_indexing_error will raise\u001b[39;00m\n\u001b[0;32m   3658\u001b[0m     \u001b[38;5;66;03m#  InvalidIndexError. Otherwise we fall through and re-raise\u001b[39;00m\n\u001b[0;32m   3659\u001b[0m     \u001b[38;5;66;03m#  the TypeError.\u001b[39;00m\n\u001b[0;32m   3660\u001b[0m     \u001b[38;5;28mself\u001b[39m\u001b[38;5;241m.\u001b[39m_check_indexing_error(key)\n",
      "\u001b[1;31mKeyError\u001b[0m: 's1'"
     ]
    }
   ],
   "source": [
    "import pandas as pd\n",
    "import re\n",
    "search='https://raw.githubusercontent.com/dsrscientist/DSData/master/happiness_score_dataset.csv'\n",
    "df=pd.read_csv(search)\n",
    "df['s1']=df['s1'].apply(lambda s:s[:6])\n",
    "print(df)"
   ]
  },
  {
   "cell_type": "markdown",
   "id": "ed280e41",
   "metadata": {},
   "source": [
    "# 11.print uppercase,lowercase,,no,_"
   ]
  },
  {
   "cell_type": "code",
   "execution_count": 491,
   "id": "7511169c",
   "metadata": {},
   "outputs": [
    {
     "name": "stdout",
     "output_type": "stream",
     "text": [
      "['Python23Is45a78case_Sensitive_Language']\n"
     ]
    }
   ],
   "source": [
    "data=\"Python23Is45a78case_Sensitive_Language \"\n",
    "a=re.findall(r'[A-Za-z0-9_]+',data)\n",
    "print(a)"
   ]
  },
  {
   "cell_type": "markdown",
   "id": "16e82114",
   "metadata": {},
   "source": [
    "# 12.start with specific no\n"
   ]
  },
  {
   "cell_type": "code",
   "execution_count": 489,
   "id": "21b123b7",
   "metadata": {},
   "outputs": [
    {
     "name": "stdout",
     "output_type": "stream",
     "text": [
      "<re.Match object; span=(0, 15), match='91-234-1234-678'>\n"
     ]
    }
   ],
   "source": [
    "import re \n",
    "data='91-234-1234-678'\n",
    "a=re.compile('\\d{2}.*')\n",
    "d=re.search(a,data)\n",
    "print(d)"
   ]
  },
  {
   "cell_type": "markdown",
   "id": "3bb7eaa8",
   "metadata": {},
   "source": [
    "# 13.remove leading zero from ip address"
   ]
  },
  {
   "cell_type": "code",
   "execution_count": 526,
   "id": "c10c1b2e",
   "metadata": {},
   "outputs": [
    {
     "name": "stdout",
     "output_type": "stream",
     "text": [
      "152.58.32.19\n"
     ]
    }
   ],
   "source": [
    "import re \n",
    "ip='152.58.032.019'\n",
    "r=re.sub('\\.[0]*', '.',ip)\n",
    "print(r)         \n",
    "         \n",
    "         \n"
   ]
  },
  {
   "cell_type": "markdown",
   "id": "67d5104a",
   "metadata": {},
   "source": [
    "# 14.match month and day,year in  a text file"
   ]
  },
  {
   "cell_type": "code",
   "execution_count": 137,
   "id": "7a30ac43",
   "metadata": {},
   "outputs": [
    {
     "name": "stdout",
     "output_type": "stream",
     "text": [
      "['August 15th 1947']\n"
     ]
    }
   ],
   "source": [
    "import re \n",
    "data=\"\"\"\"On August 15th 1947 that India was declared independent from British colonialism,and the reins \n",
    "of countol were handed over to the  leaders of the cuntry.\"\"\"   \n",
    "pattern=r'\\b[A-Za-z]* \\d{1,}(?:st|nd|rd|th)? \\d{4,}\\b'\n",
    "c=re.findall(pattern,data)\n",
    "print(c)"
   ]
  },
  {
   "cell_type": "markdown",
   "id": "9693355e",
   "metadata": {},
   "source": [
    "# 15.search some literals string"
   ]
  },
  {
   "cell_type": "code",
   "execution_count": 198,
   "id": "59540bbc",
   "metadata": {},
   "outputs": [
    {
     "name": "stdout",
     "output_type": "stream",
     "text": [
      "searching pattern \"fox\" in \"The quick brown fox jumps over the lazy dog.\" --->\n",
      "searching pattern \"dog\" in \"The quick brown fox jumps over the lazy dog.\" --->\n",
      "searching pattern \"horse\" in \"The quick brown fox jumps over the lazy dog.\" --->\n",
      "not matched!\n"
     ]
    }
   ],
   "source": [
    "import re \n",
    "data= 'The quick brown fox jumps over the lazy dog.'\n",
    "chp=['fox','dog','horse']\n",
    "for x in chp:\n",
    "    print('searching pattern \"%s\" in \"%s\" --->'  %(x,data))\n",
    "if re.search(x, data):\n",
    "    \n",
    "      print('matched!')\n",
    "else:\n",
    "      print('not matched!')\n",
    "    "
   ]
  },
  {
   "cell_type": "markdown",
   "id": "2b56237e",
   "metadata": {},
   "source": [
    "# 16.search a string literals and also find location with in the original string"
   ]
  },
  {
   "cell_type": "code",
   "execution_count": 202,
   "id": "8936bbba",
   "metadata": {},
   "outputs": [
    {
     "name": "stdout",
     "output_type": "stream",
     "text": [
      "Found \"fox in \"The quick brown fox jumps over the lazy dog.\" for 16 to 19\n"
     ]
    }
   ],
   "source": [
    "import re \n",
    "data='The quick brown fox jumps over the lazy dog.'\n",
    "pattern='fox'\n",
    "a=re.search(pattern,data)\n",
    "s1=a.start()\n",
    "e1=a.end()\n",
    "print('Found \"%s in \"%s\" for %d to %d' %  (a.re.pattern,a.string,s1,e1))"
   ]
  },
  {
   "cell_type": "markdown",
   "id": "92d7a84a",
   "metadata": {},
   "source": [
    "# 17.find yhe substring within the string"
   ]
  },
  {
   "cell_type": "code",
   "execution_count": 243,
   "id": "96b67c5a",
   "metadata": {},
   "outputs": [
    {
     "name": "stdout",
     "output_type": "stream",
     "text": [
      "Found exercises\n",
      "Found exercises\n",
      "Found exercises\n"
     ]
    }
   ],
   "source": [
    "import re\n",
    "data='Python exercises, PHP exercises, C# exercises'\n",
    "pattern='exercises'\n",
    "for x in re.findall(pattern,data):\n",
    "    print('Found %s'%x)\n"
   ]
  },
  {
   "cell_type": "markdown",
   "id": "827db10f",
   "metadata": {},
   "source": [
    "# 18.find occurence and position substring within the sting  "
   ]
  },
  {
   "cell_type": "code",
   "execution_count": 296,
   "id": "e0d5c6f1",
   "metadata": {},
   "outputs": [
    {
     "name": "stdout",
     "output_type": "stream",
     "text": [
      "exercises\n",
      "7 16\n",
      "total count is 1\n",
      "Exercises\n",
      "22 31\n",
      "total count is 2\n",
      "exercises\n",
      "36 45\n",
      "total count is 3\n"
     ]
    }
   ],
   "source": [
    "import re\n",
    "text='Python exercises, PHP Exercises, C# exercises'\n",
    "pattern=re.compile('exercises',re.I)\n",
    "count=0\n",
    "match=re.finditer(pattern,text)\n",
    "for x in match:\n",
    "    count+=1\n",
    "    print(x.group())\n",
    "    print(x.start(),x.end())\n",
    "    print(\"total count is\",count)\n",
    "    #print(f\"start:{x.start()},end:{x.end()},ele:{x.group()}\")\n",
    "    \n",
    "    "
   ]
  },
  {
   "cell_type": "markdown",
   "id": "2eccebd2",
   "metadata": {},
   "source": [
    "# 19.convert a date of yyyy-mm-dd formte to dd-mm-yyyy"
   ]
  },
  {
   "cell_type": "code",
   "execution_count": 54,
   "id": "1f44ec1a",
   "metadata": {},
   "outputs": [
    {
     "name": "stdout",
     "output_type": "stream",
     "text": [
      "original date in yyyy-mm-dd formate 2020-07-06\n",
      "new date in dd-mm-yyyy format 06-07-2020\n"
     ]
    }
   ],
   "source": [
    "import re\n",
    "def dte_re(dt):\n",
    "    return re.sub(r'(\\d{4})-(\\d{1,2})-(\\d{1,2})', '\\\\3-\\\\2-\\\\1',dt)\n",
    "dt1=\"2020-07-06\"\n",
    "print(\"original date in yyyy-mm-dd formate\", dt1)\n",
    "print(\"new date in dd-mm-yyyy format\",dte_re(dt1))"
   ]
  },
  {
   "cell_type": "markdown",
   "id": "aeb4f05c",
   "metadata": {},
   "source": [
    "# 20.find all decimal no with precision 1 or 2 in a string"
   ]
  },
  {
   "cell_type": "code",
   "execution_count": 61,
   "id": "3a3dc7c6",
   "metadata": {},
   "outputs": [
    {
     "name": "stdout",
     "output_type": "stream",
     "text": [
      "['01.12', '0132.12', '2.31', '145.8', '3.01', '27.25', '0.25']\n"
     ]
    }
   ],
   "source": [
    "import re\n",
    "def v1(s1):\n",
    "    d=re.compile(r'\\d+\\.\\d{1,2}')\n",
    "    v11=re.findall(d,s1)\n",
    "    return v11\n",
    "data=\"01.12 0132.123 2.31875 145.8 3.01 27.25 0.25\"\n",
    "r1=v1(data)\n",
    "print(r1)\n"
   ]
  },
  {
   "cell_type": "markdown",
   "id": "c10c4fd1",
   "metadata": {},
   "source": [
    "# 21.separate and print no and theor position string"
   ]
  },
  {
   "cell_type": "code",
   "execution_count": 62,
   "id": "e5c58b4e",
   "metadata": {},
   "outputs": [
    {
     "name": "stdout",
     "output_type": "stream",
     "text": [
      "34234\n",
      "index position is 27\n"
     ]
    }
   ],
   "source": [
    "import re\n",
    "data='python programming is best 34234'\n",
    "for m in re.finditer('\\d+',data):\n",
    "    print(m.group())\n",
    "    print(\"index position is\",m.start())\n",
    "    "
   ]
  },
  {
   "cell_type": "markdown",
   "id": "ed8066a8",
   "metadata": {},
   "source": [
    "# 22.extract max/largest numeric value "
   ]
  },
  {
   "cell_type": "code",
   "execution_count": 63,
   "id": "9ab0cea8",
   "metadata": {},
   "outputs": [
    {
     "name": "stdout",
     "output_type": "stream",
     "text": [
      "950\n"
     ]
    }
   ],
   "source": [
    "import re\n",
    "data='My marks in each semester are: 947, 896, 926, 524, 734, 950, 642'\n",
    "d1=re.findall(r'\\d+',data)\n",
    "n1=map(int,d1)\n",
    "print(max(n1))"
   ]
  },
  {
   "cell_type": "markdown",
   "id": "31d84f68",
   "metadata": {},
   "source": [
    "# 23.insert space between words starting with capital letters"
   ]
  },
  {
   "cell_type": "code",
   "execution_count": 196,
   "id": "d3727bbe",
   "metadata": {},
   "outputs": [
    {
     "name": "stdout",
     "output_type": "stream",
     "text": [
      "RegularExpressionIsAnImportantTopicInPython\n"
     ]
    }
   ],
   "source": [
    "import re\n",
    "def f1(data13):\n",
    "    pattern=r'(\\d+) ([A-za-z]+)'\n",
    "    r11=re.sub(pattern,r'\\1\\2',data13)\n",
    "    return r11\n",
    "data13=\"RegularExpressionIsAnImportantTopicInPython\"\n",
    "res=f1(data13)\n",
    "print(res)\n"
   ]
  },
  {
   "cell_type": "markdown",
   "id": "2fd609a8",
   "metadata": {},
   "source": [
    "# 24.find sequence of one upper case followed by lower case"
   ]
  },
  {
   "cell_type": "code",
   "execution_count": 193,
   "id": "43b51b07",
   "metadata": {},
   "outputs": [
    {
     "name": "stdout",
     "output_type": "stream",
     "text": [
      "pattern is found\n",
      "pattern is found\n"
     ]
    }
   ],
   "source": [
    "import re\n",
    "text11='c exeRcises, PHP Exercises, C# exercises'\n",
    "def red(text11):\n",
    "    pattern='[A-Z]+[a-z]+$'\n",
    "\n",
    "    if re.search(pattern,text11):\n",
    "        return 'pattern is found'\n",
    "    else:\n",
    "        return 'pattern is not found'\n",
    "\n",
    "print(red('Exercises'))\n",
    "print(red('Python'))\n",
    "\n"
   ]
  },
  {
   "cell_type": "markdown",
   "id": "f8164ecb",
   "metadata": {},
   "source": [
    "# 25.remove continuous duplicate words "
   ]
  },
  {
   "cell_type": "code",
   "execution_count": 175,
   "id": "657f6e54",
   "metadata": {},
   "outputs": [
    {
     "name": "stdout",
     "output_type": "stream",
     "text": [
      "Hello hello world\n"
     ]
    }
   ],
   "source": [
    "import re\n",
    "def rem(data15):\n",
    "    pattern=r'\\b(\\w+)(\\s+\\1\\b)+'\n",
    "    res=re.sub(pattern, r'\\1', data15)\n",
    "    return res\n",
    "data15=\"Hello hello world world\"\n",
    "des=rem(data15)\n",
    "print(des)\n",
    "               "
   ]
  },
  {
   "cell_type": "markdown",
   "id": "e80e70ab",
   "metadata": {},
   "source": [
    "# 26.string ending with alphanumeric characters "
   ]
  },
  {
   "cell_type": "code",
   "execution_count": 176,
   "id": "10436864",
   "metadata": {},
   "outputs": [
    {
     "name": "stdout",
     "output_type": "stream",
     "text": [
      "\n",
      " enter a stringpython is a programming language\n",
      "string end with an alphanumeric characters\n"
     ]
    }
   ],
   "source": [
    "import re\n",
    "def check12(data):\n",
    "    pattern=r'\\w$'\n",
    "    match=re.search(pattern,data)\n",
    "    if match:\n",
    "        return True\n",
    "    else:\n",
    "        return False \n",
    "a11=input(\"\\n enter a string\")\n",
    "if check12(a11):\n",
    "    print(\"string end with an alphanumeric characters\")\n",
    "else:\n",
    "    print(\"string is not end with an alphanumeric characters\")"
   ]
  },
  {
   "cell_type": "markdown",
   "id": "112a8248",
   "metadata": {},
   "source": [
    "# 27.extract the hashtags"
   ]
  },
  {
   "cell_type": "code",
   "execution_count": 140,
   "id": "514f6374",
   "metadata": {},
   "outputs": [
    {
     "name": "stdout",
     "output_type": "stream",
     "text": [
      "['#Doltiwal', '#xyzabc', '#Demonetization']\n"
     ]
    }
   ],
   "source": [
    "import re\n",
    "def ext(data):\n",
    "    tags1=re.findall(r'#\\w+',data)\n",
    "    return tags1\n",
    "data=\"\"\"\"RT @kapil_kausik:#Doltiwal I mean #xyzabc is \"hurt\" by #Demonetization as the same has rendered USELESS \n",
    "<ed><U+00A0><U+00BD><ed><U+00B1><U+0089> \"acquired funds\" No wo\"\"\"\n",
    "tags=ext(data)\n",
    "print(tags)\n"
   ]
  },
  {
   "cell_type": "markdown",
   "id": "47abdbb9",
   "metadata": {},
   "source": [
    "# 28.remove <U+..> like symbols"
   ]
  },
  {
   "cell_type": "code",
   "execution_count": 141,
   "id": "acce4942",
   "metadata": {},
   "outputs": [
    {
     "name": "stdout",
     "output_type": "stream",
     "text": [
      "@Jags123456 Bharat band on 28??<ed><ed>Those who  are protesting #demonetization  \n",
      "are all different party leaders\n"
     ]
    }
   ],
   "source": [
    "import re\n",
    "data='''@Jags123456 Bharat band on 28??<ed><U+00A0><U+00BD><ed><U+00B8><U+0082>Those who  are protesting #demonetization  \n",
    "are all different party leaders'''\n",
    "pattern=r'<U\\+\\w{4}>'\n",
    "res=re.sub(pattern,\"\",data)\n",
    "print(res)"
   ]
  },
  {
   "cell_type": "markdown",
   "id": "d5d2d125",
   "metadata": {},
   "source": [
    "# 29.extract dates from text file"
   ]
  },
  {
   "cell_type": "code",
   "execution_count": 190,
   "id": "7fdefac5",
   "metadata": {},
   "outputs": [
    {
     "ename": "UnicodeDecodeError",
     "evalue": "'charmap' codec can't decode byte 0x81 in position 637: character maps to <undefined>",
     "output_type": "error",
     "traceback": [
      "\u001b[1;31m---------------------------------------------------------------------------\u001b[0m",
      "\u001b[1;31mUnicodeDecodeError\u001b[0m                        Traceback (most recent call last)",
      "Cell \u001b[1;32mIn[190], line 3\u001b[0m\n\u001b[0;32m      1\u001b[0m \u001b[38;5;28;01mimport\u001b[39;00m \u001b[38;5;21;01mre\u001b[39;00m\n\u001b[0;32m      2\u001b[0m \u001b[38;5;28;01mwith\u001b[39;00m \u001b[38;5;28mopen\u001b[39m(\u001b[38;5;124m'\u001b[39m\u001b[38;5;124mred.docx\u001b[39m\u001b[38;5;124m'\u001b[39m,\u001b[38;5;124m'\u001b[39m\u001b[38;5;124mr\u001b[39m\u001b[38;5;124m'\u001b[39m) \u001b[38;5;28;01mas\u001b[39;00m file:\n\u001b[1;32m----> 3\u001b[0m     text\u001b[38;5;241m=\u001b[39mfile\u001b[38;5;241m.\u001b[39mread()\n\u001b[0;32m      4\u001b[0m     pattern\u001b[38;5;241m=\u001b[39m\u001b[38;5;124mr\u001b[39m\u001b[38;5;124m'\u001b[39m\u001b[38;5;124m\\\u001b[39m\u001b[38;5;124md\u001b[39m\u001b[38;5;132;01m{2}\u001b[39;00m\u001b[38;5;124m-\u001b[39m\u001b[38;5;124m\\\u001b[39m\u001b[38;5;124md\u001b[39m\u001b[38;5;132;01m{2}\u001b[39;00m\u001b[38;5;124m-\u001b[39m\u001b[38;5;124m\\\u001b[39m\u001b[38;5;124md\u001b[39m\u001b[38;5;132;01m{4}\u001b[39;00m\u001b[38;5;124m'\u001b[39m\n\u001b[0;32m      5\u001b[0m     dts\u001b[38;5;241m=\u001b[39mre\u001b[38;5;241m.\u001b[39mfindall(pattern,text)\n",
      "File \u001b[1;32mC:\\ProgramData\\anaconda3\\Lib\\encodings\\cp1252.py:23\u001b[0m, in \u001b[0;36mIncrementalDecoder.decode\u001b[1;34m(self, input, final)\u001b[0m\n\u001b[0;32m     22\u001b[0m \u001b[38;5;28;01mdef\u001b[39;00m \u001b[38;5;21mdecode\u001b[39m(\u001b[38;5;28mself\u001b[39m, \u001b[38;5;28minput\u001b[39m, final\u001b[38;5;241m=\u001b[39m\u001b[38;5;28;01mFalse\u001b[39;00m):\n\u001b[1;32m---> 23\u001b[0m     \u001b[38;5;28;01mreturn\u001b[39;00m codecs\u001b[38;5;241m.\u001b[39mcharmap_decode(\u001b[38;5;28minput\u001b[39m,\u001b[38;5;28mself\u001b[39m\u001b[38;5;241m.\u001b[39merrors,decoding_table)[\u001b[38;5;241m0\u001b[39m]\n",
      "\u001b[1;31mUnicodeDecodeError\u001b[0m: 'charmap' codec can't decode byte 0x81 in position 637: character maps to <undefined>"
     ]
    }
   ],
   "source": [
    "import re\n",
    "with open('red.docx','r') as file:\n",
    "    text=file.read()\n",
    "    pattern=r'\\d{2}-\\d{2}-\\d{4}'\n",
    "    dts=re.findall(pattern,text)\n",
    "txt1='Ron was born on 12-09-1992 and he was admitted to school 15-12-1999.'    \n",
    "for ts in dts:\n",
    "    print(ts)\n",
    "\n"
   ]
  },
  {
   "cell_type": "markdown",
   "id": "db631609",
   "metadata": {},
   "source": [
    "# 30.remove all words from string of length between 2 & 4 "
   ]
  },
  {
   "cell_type": "code",
   "execution_count": 181,
   "id": "f74efca5",
   "metadata": {},
   "outputs": [
    {
     "name": "stdout",
     "output_type": "stream",
     "text": [
      "  following example creates   ArrayList   a capacity     elements.4 elements     added     ArrayList \n",
      "    ArrayList   trimmed accordingly.\n"
     ]
    }
   ],
   "source": [
    "import re\n",
    "def remove12(st1):\n",
    "    pattern=re.compile(r'\\b\\w{2,4}\\b')\n",
    "    mgf=re.sub(pattern,\" \",st1)\n",
    "    return mgf\n",
    "st1='''The following example creates an ArrayList with a capacity of 50 elements.4 elements are then added to the ArrayList \n",
    "and the ArrayList is trimmed accordingly.'''\n",
    "res=remove12(st1)\n",
    "print(res)\n"
   ]
  },
  {
   "cell_type": "code",
   "execution_count": null,
   "id": "35e6c018",
   "metadata": {},
   "outputs": [],
   "source": []
  },
  {
   "cell_type": "code",
   "execution_count": null,
   "id": "fd8a82d6",
   "metadata": {},
   "outputs": [],
   "source": []
  }
 ],
 "metadata": {
  "kernelspec": {
   "display_name": "Python 3 (ipykernel)",
   "language": "python",
   "name": "python3"
  },
  "language_info": {
   "codemirror_mode": {
    "name": "ipython",
    "version": 3
   },
   "file_extension": ".py",
   "mimetype": "text/x-python",
   "name": "python",
   "nbconvert_exporter": "python",
   "pygments_lexer": "ipython3",
   "version": "3.11.5"
  }
 },
 "nbformat": 4,
 "nbformat_minor": 5
}
