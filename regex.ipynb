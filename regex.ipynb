{
 "cells": [
  {
   "cell_type": "markdown",
   "id": "d9bbc02a",
   "metadata": {},
   "source": [
    "# Regular expression "
   ]
  },
  {
   "cell_type": "code",
   "execution_count": 165,
   "id": "7e232857",
   "metadata": {},
   "outputs": [
    {
     "name": "stdout",
     "output_type": "stream",
     "text": [
      "['M', 'y', 'i', 'n', 't', 'e', 'r', 'n', 's', 'h', 'i', 'p', 'n', 'o', '2', '0', '4', '6', 's', 't', 'a', 'r', 't', '2', '3', 'j', 'u', 'n', 'e', '2', '0', '2', '4']\n"
     ]
    }
   ],
   "source": [
    "import re\n",
    "data=\"My internship no 2046 start 23 june 2024\"\n",
    "pattern=re.compile(r'[a-zA-Z0-9]')\n",
    "a=re.findall(pattern,data)\n",
    "print(a)"
   ]
  },
  {
   "cell_type": "code",
   "execution_count": 96,
   "id": "db3c57e2",
   "metadata": {},
   "outputs": [
    {
     "name": "stdout",
     "output_type": "stream",
     "text": [
      "['python ', 'is ', 'most ', 'popular ', 'progrmming ', 'language']\n"
     ]
    }
   ],
   "source": [
    "import re \n",
    "data=\"python is most popular progrmming language\"\n",
    "pattern=re.compile(r'\\b\\w*.\\b')\n",
    "a=re.findall(pattern,data)\n",
    "print(a)"
   ]
  },
  {
   "cell_type": "code",
   "execution_count": 171,
   "id": "062608db",
   "metadata": {},
   "outputs": [
    {
     "name": "stdout",
     "output_type": "stream",
     "text": [
      "['is Computer Progrmming language']\n"
     ]
    }
   ],
   "source": [
    "import re \n",
    "data=\"python is Computer Progrmming language \"\n",
    "pattern1=re.compile(r'\\bis.*\\b')\n",
    "a=re.findall(pattern1,data)\n",
    "print(a)"
   ]
  },
  {
   "cell_type": "code",
   "execution_count": 184,
   "id": "9c1d8ba8",
   "metadata": {},
   "outputs": [
    {
     "name": "stdout",
     "output_type": "stream",
     "text": [
      "['India is won the T20 world cup in 2024']\n"
     ]
    }
   ],
   "source": [
    "import re \n",
    "data=\"India is won the T20 world cup in 2024\"\n",
    "pattern=re.compile(r'\\b\\w.*\\b')\n",
    "a=re.findall(pattern,data)\n",
    "print(a)"
   ]
  },
  {
   "cell_type": "code",
   "execution_count": 186,
   "id": "215255f5",
   "metadata": {},
   "outputs": [
    {
     "name": "stdout",
     "output_type": "stream",
     "text": [
      "['After ', 'won ', 'the ', 'wolrd ', 'cup ', 'virat ', 'and ', 'rohit ', 'announced ', 'retirement ', 'T20 ']\n"
     ]
    }
   ],
   "source": [
    "import re \n",
    "data=\"After won the wolrd cup virat and rohit announced retirement T20 \"\n",
    "pattern=re.compile(r'\\b\\w*\\s')\n",
    "a=re.findall(pattern,data)\n",
    "print(a)"
   ]
  },
  {
   "cell_type": "code",
   "execution_count": 228,
   "id": "adf9c8e3",
   "metadata": {},
   "outputs": [
    {
     "name": "stdout",
     "output_type": "stream",
     "text": [
      "[' be ', ' be ', ' be ']\n"
     ]
    }
   ],
   "source": [
    "import re \n",
    "data='''Python can be used on a server to create web applications\n",
    "Python can be used alongside software to be create workflows'''\n",
    "pattern=re.compile(r' \\b[be]*\\s\\b')\n",
    "a=re.findall(pattern,data)\n",
    "print(a)"
   ]
  },
  {
   "cell_type": "code",
   "execution_count": 235,
   "id": "9b2f1acc",
   "metadata": {},
   "outputs": [
    {
     "name": "stdout",
     "output_type": "stream",
     "text": [
      "['aabae123rdewb']\n"
     ]
    }
   ],
   "source": [
    "import re \n",
    "data='''aabae123rdewb'''\n",
    "pattern=re.compile(r'\\w+b\\b')\n",
    "a=re.findall(pattern,data)\n",
    "print(a)"
   ]
  },
  {
   "cell_type": "code",
   "execution_count": 285,
   "id": "242ae6a6",
   "metadata": {},
   "outputs": [
    {
     "name": "stdout",
     "output_type": "stream",
     "text": [
      "<re.Match object; span=(0, 6), match='Python'>\n"
     ]
    }
   ],
   "source": [
    "import re \n",
    "\n",
    "data='''Python to develop web Applications python'''\n",
    "pattern=re.compile('\\Apython',re.I )\n",
    "a=re.match(pattern,data)\n",
    "print(a)"
   ]
  },
  {
   "cell_type": "code",
   "execution_count": 293,
   "id": "a1e4a087",
   "metadata": {},
   "outputs": [
    {
     "name": "stdout",
     "output_type": "stream",
     "text": [
      "['python']\n"
     ]
    }
   ],
   "source": [
    "import re \n",
    "data='''Python to develop web Applications python'''\n",
    "pattern=re.compile(r'python\\Z\\b',re.I )\n",
    "a=re.findall(pattern,data)\n",
    "print(a)"
   ]
  },
  {
   "cell_type": "code",
   "execution_count": 353,
   "id": "c98d9b17",
   "metadata": {},
   "outputs": [
    {
     "name": "stdout",
     "output_type": "stream",
     "text": [
      "['0132', '1458', '2725']\n"
     ]
    }
   ],
   "source": [
    "import re \n",
    "data='''01 0132 231875 1458 301 2725.'''\n",
    "pattern=re.compile(r'\\b\\d{4}\\b') \n",
    "a=re.findall(pattern,data)\n",
    "print(a)"
   ]
  },
  {
   "cell_type": "code",
   "execution_count": null,
   "id": "983784a3",
   "metadata": {},
   "outputs": [],
   "source": []
  },
  {
   "cell_type": "code",
   "execution_count": null,
   "id": "6a8495a1",
   "metadata": {},
   "outputs": [],
   "source": []
  }
 ],
 "metadata": {
  "kernelspec": {
   "display_name": "Python 3 (ipykernel)",
   "language": "python",
   "name": "python3"
  },
  "language_info": {
   "codemirror_mode": {
    "name": "ipython",
    "version": 3
   },
   "file_extension": ".py",
   "mimetype": "text/x-python",
   "name": "python",
   "nbconvert_exporter": "python",
   "pygments_lexer": "ipython3",
   "version": "3.11.5"
  }
 },
 "nbformat": 4,
 "nbformat_minor": 5
}
